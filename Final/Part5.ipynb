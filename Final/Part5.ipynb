{
 "cells": [
  {
   "cell_type": "code",
   "execution_count": 2,
   "metadata": {},
   "outputs": [],
   "source": [
    "import cv2\n",
    "import numpy as np\n",
    "import matplotlib.pyplot as plt"
   ]
  },
  {
   "cell_type": "code",
   "execution_count": 3,
   "metadata": {},
   "outputs": [],
   "source": [
    "dim = (600,400)"
   ]
  },
  {
   "cell_type": "code",
   "execution_count": 4,
   "metadata": {},
   "outputs": [],
   "source": [
    "detector = cv2.CascadeClassifier(\"../haarcascade_frontalface_default.xml\")"
   ]
  },
  {
   "cell_type": "code",
   "execution_count": 5,
   "metadata": {},
   "outputs": [],
   "source": [
    "import dlib\n",
    "from imutils import face_utils"
   ]
  },
  {
   "cell_type": "code",
   "execution_count": 6,
   "metadata": {},
   "outputs": [],
   "source": [
    "predictor = dlib.shape_predictor(\"../shape_predictor_68_face_landmarks.dat\")\n",
    "dlibDetector = dlib.get_frontal_face_detector()"
   ]
  },
  {
   "cell_type": "code",
   "execution_count": 7,
   "metadata": {},
   "outputs": [],
   "source": [
    "def compute(ptA, ptB):\n",
    "    dist = np.linalg.norm(ptA - ptB)\n",
    "    return dist\n",
    "\n",
    "\n",
    "def EAR(a, b, c, d, e, f):\n",
    "    up = compute(b, d) + compute(c, e)\n",
    "    down = compute(a, f)\n",
    "    ratio = up / (2.0 * down)\n",
    "\n",
    "    return ratio"
   ]
  },
  {
   "cell_type": "code",
   "execution_count": 8,
   "metadata": {},
   "outputs": [],
   "source": [
    "def __draw_label(img, text, pos, bg_color):\n",
    "    font_face = cv2.FONT_HERSHEY_SIMPLEX\n",
    "    scale = 0.4\n",
    "    color = (255, 255, 255)\n",
    "    thickness = cv2.FILLED\n",
    "    margin = 2\n",
    "    txt_size = cv2.getTextSize(text, font_face, scale, thickness)\n",
    "\n",
    "    end_x = pos[0] + txt_size[0][0] + margin\n",
    "    end_y = pos[1] - txt_size[0][1] - margin\n",
    "\n",
    "    cv2.rectangle(img, pos, (end_x, end_y), bg_color, thickness)\n",
    "    cv2.putText(img, text, pos, font_face, scale, color, 1, cv2.LINE_AA)"
   ]
  },
  {
   "cell_type": "code",
   "execution_count": 10,
   "metadata": {},
   "outputs": [
    {
     "name": "stdout",
     "output_type": "stream",
     "text": [
      "EAR: 0.2724907544200458\n",
      "EAR: 0.25749374615784515\n",
      "EAR: 0.27587904402202135\n",
      "EAR: 0.23041766314532514\n",
      "EAR: 0.2648015750716044\n",
      "EAR: 0.25363410135365494\n",
      "EAR: 0.24092925692470707\n",
      "EAR: 0.23327359337502312\n",
      "EAR: 0.25374830725646746\n",
      "EAR: 0.2480649257881083\n",
      "EAR: 0.23085250133025836\n",
      "EAR: 0.2465496609501501\n",
      "EAR: 0.22183116439264933\n",
      "EAR: 0.29610960576510775\n",
      "EAR: 0.2429331501564978\n",
      "EAR: 0.24132843225655626\n",
      "EAR: 0.257683325947415\n",
      "EAR: 0.27185287753929377\n",
      "EAR: 0.2313762056543771\n",
      "EAR: 0.2683654979949692\n",
      "EAR: 0.3007591808369334\n",
      "EAR: 0.26233313390191226\n",
      "EAR: 0.2679535581978648\n",
      "EAR: 0.2942282655849646\n",
      "EAR: 0.2820637124936106\n",
      "EAR: 0.292198930136254\n",
      "EAR: 0.31799436755428534\n",
      "EAR: 0.2870334184624369\n",
      "EAR: 0.28258521510941054\n",
      "EAR: 0.2803824819991789\n",
      "EAR: 0.25793763121518093\n",
      "EAR: 0.2660819012641382\n",
      "EAR: 0.2576287749895205\n",
      "EAR: 0.22565659031018842\n"
     ]
    }
   ],
   "source": [
    "# cap = cv2.VideoCapture('../Video Data for research/20220407_141535.mp4')\n",
    "cap = cv2.VideoCapture(0)\n",
    "# if (cap.isOpened()== False):\n",
    "#     print(\"Error opening video file\")\n",
    "while(True):    \n",
    "# while(cap.isOpened()):\n",
    "    font = cv2.FONT_HERSHEY_SIMPLEX\n",
    "    ret, frame = cap.read()\n",
    "    if ret == True:\n",
    "        gray = cv2.cvtColor(frame, cv2.COLOR_BGR2GRAY)\n",
    "        faces = detector.detectMultiScale(frame,1.3,5)\n",
    "        img = frame.copy()\n",
    "        text = \"EAR: \"\n",
    "        if(len(faces)):\n",
    "            x,y,w,h = faces[0]\n",
    "            img = cv2.rectangle(frame,(x,y),(x+w,y+h),(255,255,255),2)\n",
    "            a = dlib.rectangle(left=x, top=y, right=x+w, bottom=y+h)\n",
    "            landmarks = predictor(gray, a)\n",
    "            landmarks = face_utils.shape_to_np(landmarks)\n",
    "            left_blink = EAR(landmarks[36], landmarks[37],landmarks[38], landmarks[41], landmarks[40], landmarks[39])\n",
    "            right_blink = EAR(landmarks[42], landmarks[43],landmarks[44], landmarks[47], landmarks[46], landmarks[45])\n",
    "            text = text + str((left_blink+right_blink)/2)\n",
    "            print(text)\n",
    "            for n in range(0, 68):\n",
    "                (x, y) = landmarks[n]\n",
    "                cv2.circle(img, (x, y), 1, (255, 255, 255), -1)  \n",
    "#         for face in faces:\n",
    "#             x,y,w,h = face\n",
    "#             img = cv2.rectangle(frame,(x,y),(x+w,y+h),(255,255,255),2)\n",
    "#             landmarks = predictor(gray, face)\n",
    "#             landmarks = face_utils.shape_to_np(landmarks)\n",
    "        resizedFrame = cv2.resize(img, dim, interpolation = cv2.INTER_AREA)\n",
    "        __draw_label(resizedFrame, 'EAR', (20,20), (0,0,0))\n",
    "        cv2.imshow('Frame', resizedFrame)\n",
    "        if cv2.waitKey(25) & 0xFF == ord('q'):\n",
    "            break\n",
    "    else: \n",
    "        break\n",
    "        \n",
    "cap.release()\n",
    "cv2.destroyAllWindows()"
   ]
  },
  {
   "cell_type": "code",
   "execution_count": 4,
   "metadata": {},
   "outputs": [],
   "source": [
    "# cap = cv2.VideoCapture('../Video Data for research/20220407_141535.mp4')\n",
    "# if (cap.isOpened()== False):\n",
    "#     print(\"Error opening video file\")\n",
    "    \n",
    "# ret, frame = cap.read()\n",
    "# if ret == True:\n",
    "#     gray = cv2.cvtColor(frame, cv2.COLOR_BGR2GRAY)\n",
    "#     faces = detector.detectMultiScale(frame,1.1,5)\n",
    "#     for face in faces:\n",
    "#         x,y,w,h = face\n",
    "#         img = cv2.rectangle(frame,(x,y),(x+w,y+h),(255,255,255),2)\n",
    "#     resizedFrame = cv2.resize(img, dim, interpolation = cv2.INTER_AREA)\n",
    "#     cv2.imshow('Frame', resizedFrame)"
   ]
  },
  {
   "cell_type": "code",
   "execution_count": null,
   "metadata": {},
   "outputs": [],
   "source": []
  }
 ],
 "metadata": {
  "kernelspec": {
   "display_name": "Python 3",
   "language": "python",
   "name": "python3"
  },
  "language_info": {
   "codemirror_mode": {
    "name": "ipython",
    "version": 3
   },
   "file_extension": ".py",
   "mimetype": "text/x-python",
   "name": "python",
   "nbconvert_exporter": "python",
   "pygments_lexer": "ipython3",
   "version": "3.7.4"
  }
 },
 "nbformat": 4,
 "nbformat_minor": 4
}
