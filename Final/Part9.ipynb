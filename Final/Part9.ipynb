{
 "cells": [
  {
   "cell_type": "code",
   "execution_count": 1,
   "metadata": {},
   "outputs": [],
   "source": [
    "import numpy as np\n",
    "import cv2\n",
    "import dlib\n",
    "from imutils import face_utils\n",
    "import matplotlib.pyplot as plt\n",
    "from statistics import mean\n",
    "from collections import deque\n",
    "import time"
   ]
  },
  {
   "cell_type": "code",
   "execution_count": 2,
   "metadata": {},
   "outputs": [],
   "source": [
    "detector = cv2.CascadeClassifier(\"../haarcascade_frontalface_default.xml\")"
   ]
  },
  {
   "cell_type": "code",
   "execution_count": 3,
   "metadata": {},
   "outputs": [],
   "source": [
    "dim = (400,640)\n",
    "EAR_Values = list()"
   ]
  },
  {
   "cell_type": "code",
   "execution_count": 4,
   "metadata": {},
   "outputs": [],
   "source": [
    "def __draw_label(img, text, pos, bg_color):\n",
    "    font_face = cv2.FONT_HERSHEY_SIMPLEX\n",
    "    scale = 0.4\n",
    "    color = (255, 255, 255)\n",
    "    thickness = cv2.FILLED\n",
    "    margin = 2\n",
    "    txt_size = cv2.getTextSize(text, font_face, scale, thickness)\n",
    "\n",
    "    end_x = pos[0] + txt_size[0][0] + margin\n",
    "    end_y = pos[1] - txt_size[0][1] - margin\n",
    "\n",
    "    cv2.rectangle(img, pos, (end_x, end_y), bg_color, thickness)\n",
    "    cv2.putText(img, text, pos, font_face, scale, color, 1, cv2.LINE_AA)"
   ]
  },
  {
   "cell_type": "code",
   "execution_count": 5,
   "metadata": {},
   "outputs": [],
   "source": [
    "def compute(ptA, ptB):\n",
    "    dist = np.linalg.norm(ptA - ptB)\n",
    "    return dist\n",
    "\n",
    "\n",
    "def EAR(a, b, c, d, e, f):\n",
    "    up = compute(b, d) + compute(c, e)\n",
    "    down = compute(a, f)\n",
    "    ratio = up / (2.0 * down)\n",
    "\n",
    "    return ratio"
   ]
  },
  {
   "cell_type": "code",
   "execution_count": 6,
   "metadata": {},
   "outputs": [
    {
     "name": "stdout",
     "output_type": "stream",
     "text": [
      "Semi-close /Close\n",
      "open\n",
      "open\n",
      "open\n"
     ]
    }
   ],
   "source": [
    "flag= True\n",
    "cap = cv2.VideoCapture(0)\n",
    "eff_EAR = 0.25\n",
    "startTime = 0\n",
    "endTime = 0\n",
    "\n",
    "while(flag):\n",
    "    ret, frame = cap.read()\n",
    "    if ret == True:\n",
    "        gray = cv2.cvtColor(frame, cv2.COLOR_BGR2GRAY)\n",
    "        faces = detector.detectMultiScale(frame,1.3,5)\n",
    "        if(len(faces)):\n",
    "            x,y,w,h = faces[0]\n",
    "            flag=False\n",
    "            track_window = (x, y, w, h)\n",
    "            roi = frame[y:y+h, x:x+w]\n",
    "            hsv_roi =  cv2.cvtColor(roi, cv2.COLOR_BGR2HSV)\n",
    "            mask = cv2.inRange(hsv_roi, np.array((0., 60.,32.)), np.array((180.,255.,255.)))\n",
    "            roi_hist = cv2.calcHist([hsv_roi],[0],mask,[180],[0,180])\n",
    "            cv2.normalize(roi_hist,roi_hist,0,255,cv2.NORM_MINMAX)\n",
    "            term_crit = ( cv2.TERM_CRITERIA_EPS | cv2.TERM_CRITERIA_COUNT, 10, 1 )\n",
    "            \n",
    "            i = 0\n",
    "            startTime = time.time()\n",
    "            while(True):\n",
    "                ret, frame = cap.read()\n",
    "\n",
    "                if ret == True:\n",
    "                    hsv = cv2.cvtColor(frame, cv2.COLOR_BGR2HSV)\n",
    "                    dst = cv2.calcBackProject([hsv],[0],roi_hist,[0,180],1)\n",
    "                    \n",
    "                    ret, track_window = cv2.CamShift(dst, track_window, term_crit)\n",
    "\n",
    "                    #print(ret,track_window)\n",
    "                    pts = cv2.boxPoints(ret)\n",
    "                    #print(\"points\",pts)\n",
    "                    pts = np.int0(pts)\n",
    "                    #print(\"after np int\",pts)\n",
    "                    copy_frame = frame.copy()\n",
    "                    img2 = cv2.polylines(copy_frame,[pts],True, 255,2)\n",
    "                    #img = cv2.rectangle(frame,(x,y),(x+w,y+h),(255,255,255),2)\n",
    "                    cv2.imshow('Frame',img2)\n",
    "                    \n",
    "                    frame_pts = cv2.boundingRect(pts)\n",
    "                    x,y,w,h = frame_pts\n",
    "                    new_frame = frame[y:y+h, x:x+w].copy()\n",
    "                    \n",
    "                    #resizedFrame = cv2.resize(new_frame, dim, interpolation = cv2.INTER_AREA)\n",
    "                    #__draw_label(resizedFrame, text, (20,20), (0,0,0))\n",
    "                    #cv2.imshow('Face Frame', new_frame)\n",
    "                    \n",
    "                    dlib_detector = dlib.get_frontal_face_detector()\n",
    "                    dlib_predictor = dlib.shape_predictor(\"../shape_predictor_68_face_landmarks.dat\")\n",
    "                    \n",
    "                    if(i<80): \n",
    "                        gray_new_frame = cv2.cvtColor(new_frame, cv2.COLOR_BGR2GRAY)\n",
    "                        \n",
    "                        faces = dlib_detector(gray_new_frame)\n",
    "                        \n",
    "                        if(len(faces)):\n",
    "                            i=i+1\n",
    "                            landmarks = dlib_predictor(gray_new_frame, faces[0])\n",
    "                            landmarks = face_utils.shape_to_np(landmarks)\n",
    "                            left_blink = EAR(landmarks[36], landmarks[37],landmarks[38], landmarks[41], landmarks[40], landmarks[39])\n",
    "                            right_blink = EAR(landmarks[42], landmarks[43],landmarks[44], landmarks[47], landmarks[46], landmarks[45])\n",
    "\n",
    "                            EAR_Values.append((left_blink+right_blink)/2)\n",
    "\n",
    "                            for n in range(0, 68):\n",
    "                                (x1, y1) = landmarks[n]\n",
    "                                cv2.circle(copy_frame, (x+x1, y+y1), 1, (255, 255, 255), -1) \n",
    "\n",
    "                            __draw_label(copy_frame, \"Computing EAR\", (20,20), (0,0,0))\n",
    "                            cv2.imshow('EAR Calculation Frame', copy_frame)\n",
    "                    elif(i==80):\n",
    "                        eff_EAR = round(mean(EAR_Values),2)-0.02\n",
    "                        i=i+1\n",
    "                        endTime = time.time()\n",
    "                    else:\n",
    "                        gray_new_frame = cv2.cvtColor(new_frame, cv2.COLOR_BGR2GRAY)\n",
    "                        \n",
    "                        faces = dlib_detector(gray_new_frame)\n",
    "                        \n",
    "                        if(len(faces)):\n",
    "                            #i=i+1\n",
    "                            landmarks = dlib_predictor(gray_new_frame, faces[0])\n",
    "                            landmarks = face_utils.shape_to_np(landmarks)\n",
    "                            left_blink = EAR(landmarks[36], landmarks[37],landmarks[38], landmarks[41], landmarks[40], landmarks[39])\n",
    "                            right_blink = EAR(landmarks[42], landmarks[43],landmarks[44], landmarks[47], landmarks[46], landmarks[45])\n",
    "\n",
    "                            EAR_val = (left_blink+right_blink)/2\n",
    "                            \n",
    "                            if(EAR_val>=eff_EAR):\n",
    "                                print(\"open\")\n",
    "                            elif(EAR_val<eff_EAR):\n",
    "                                print(\"Semi-close\",\"/Close\")\n",
    "\n",
    "                            for n in range(0, 68):\n",
    "                                (x1, y1) = landmarks[n]\n",
    "                                cv2.circle(copy_frame, (x+x1, y+y1), 1, (255, 255, 255), -1) \n",
    "\n",
    "                            __draw_label(copy_frame, \"Effective EAR: \"+str(eff_EAR), (20,20), (0,0,0))\n",
    "                            cv2.imshow('Final Frame', copy_frame)\n",
    "                        \n",
    "\n",
    "                    k = cv2.waitKey(30) & 0xff\n",
    "                    if k == 27:\n",
    "                        break\n",
    "                else:\n",
    "                    break\n",
    "cap.release()\n",
    "cv2.destroyAllWindows()"
   ]
  },
  {
   "cell_type": "code",
   "execution_count": 7,
   "metadata": {},
   "outputs": [
    {
     "data": {
      "text/plain": [
       "80"
      ]
     },
     "execution_count": 7,
     "metadata": {},
     "output_type": "execute_result"
    }
   ],
   "source": [
    "len(EAR_Values)"
   ]
  },
  {
   "cell_type": "code",
   "execution_count": 8,
   "metadata": {},
   "outputs": [
    {
     "data": {
      "text/plain": [
       "0.23"
      ]
     },
     "execution_count": 8,
     "metadata": {},
     "output_type": "execute_result"
    }
   ],
   "source": [
    "eff_EAR"
   ]
  },
  {
   "cell_type": "code",
   "execution_count": 9,
   "metadata": {},
   "outputs": [
    {
     "data": {
      "text/plain": [
       "0.24543345952858595"
      ]
     },
     "execution_count": 9,
     "metadata": {},
     "output_type": "execute_result"
    }
   ],
   "source": [
    "EAR_Thres = mean(EAR_Values)\n",
    "EAR_Thres"
   ]
  },
  {
   "cell_type": "code",
   "execution_count": 10,
   "metadata": {},
   "outputs": [
    {
     "name": "stdout",
     "output_type": "stream",
     "text": [
      "0.25\n"
     ]
    }
   ],
   "source": [
    "print(round(EAR_Thres,2))"
   ]
  },
  {
   "cell_type": "code",
   "execution_count": 11,
   "metadata": {},
   "outputs": [
    {
     "data": {
      "text/plain": [
       "[<matplotlib.lines.Line2D at 0x23f16a52088>]"
      ]
     },
     "execution_count": 11,
     "metadata": {},
     "output_type": "execute_result"
    },
    {
     "data": {
      "image/png": "[encoded data removed]",
      "text/plain": [
       "<Figure size 432x288 with 1 Axes>"
      ]
     },
     "metadata": {
      "needs_background": "light"
     },
     "output_type": "display_data"
    }
   ],
   "source": [
    "plt.plot(EAR_Values)"
   ]
  },
  {
   "cell_type": "code",
   "execution_count": 13,
   "metadata": {},
   "outputs": [
    {
     "name": "stdout",
     "output_type": "stream",
     "text": [
      "Total time taken in Seconds:  226\n",
      "FPS:  0.3584070796460177\n"
     ]
    }
   ],
   "source": [
    "total = round(endTime-startTime)\n",
    "print(\"Total time taken in Seconds: \", total)\n",
    "print(\"FPS: \",float(81/total))"
   ]
  },
  {
   "cell_type": "code",
   "execution_count": null,
   "metadata": {},
   "outputs": [],
   "source": []
  }
 ],
 "metadata": {
  "kernelspec": {
   "display_name": "Python 3",
   "language": "python",
   "name": "python3"
  },
  "language_info": {
   "codemirror_mode": {
    "name": "ipython",
    "version": 3
   },
   "file_extension": ".py",
   "mimetype": "text/x-python",
   "name": "python",
   "nbconvert_exporter": "python",
   "pygments_lexer": "ipython3",
   "version": "3.7.4"
  }
 },
 "nbformat": 4,
 "nbformat_minor": 4
}
